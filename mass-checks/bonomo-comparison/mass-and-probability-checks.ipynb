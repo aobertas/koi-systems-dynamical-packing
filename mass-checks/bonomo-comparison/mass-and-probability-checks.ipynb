{
 "cells": [
  {
   "cell_type": "code",
   "execution_count": 1,
   "metadata": {},
   "outputs": [
    {
     "name": "stderr",
     "output_type": "stream",
     "text": [
      "/Users/alysa/miniconda3/envs/astroconda/lib/python3.5/site-packages/h5py/__init__.py:36: FutureWarning: Conversion of the second argument of issubdtype from `float` to `np.floating` is deprecated. In future, it will be treated as `np.float64 == np.dtype(float).type`.\n",
      "  from ._conv import register_converters as _register_converters\n",
      "/Users/alysa/miniconda3/envs/astroconda/lib/python3.5/site-packages/xgboost/__init__.py:29: FutureWarning: Python 3.5 support is deprecated; XGBoost will require Python 3.6+ in the near future. Consider upgrading to Python 3.6+.\n",
      "  FutureWarning)\n"
     ]
    }
   ],
   "source": [
    "import numpy as np\n",
    "import pandas as pd\n",
    "import rebound\n",
    "import mr_forecast as mr\n",
    "import spock\n",
    "import os\n",
    "import glob\n",
    "import random\n",
    "import matplotlib.pyplot as plt\n",
    "import matplotlib\n",
    "from mpl_toolkits.axes_grid1.inset_locator import inset_axes\n",
    "% matplotlib inline"
   ]
  },
  {
   "cell_type": "code",
   "execution_count": 2,
   "metadata": {},
   "outputs": [],
   "source": [
    "plt.rc('lines', linewidth=6)\n",
    "plt.rc('font', size=40, family='serif', weight=500)\n",
    "plt.rc('mathtext', fontset = 'dejavuserif')\n",
    "plt.rc('axes', linewidth=6, titlepad=20)\n",
    "plt.rc('patch', linewidth=6)\n",
    "plt.rc('xtick.major', width=5, size=20)\n",
    "plt.rc('xtick.minor', width=4, size=15)\n",
    "plt.rc('ytick.major', width=5, size=20)\n",
    "plt.rc('ytick.minor', width=4, size=15)\n",
    "plt.rc('figure.subplot', hspace=0.3, wspace=0.3)"
   ]
  },
  {
   "cell_type": "code",
   "execution_count": 3,
   "metadata": {},
   "outputs": [],
   "source": [
    "def get_exit_times(dir_name):\n",
    "    archive_list = glob.glob(dir_name + \"/*.bin\")\n",
    "    \n",
    "    exit_times = np.zeros(len(archive_list))\n",
    "    periods = np.zeros(len(archive_list))\n",
    "    identifiers = []\n",
    "    \n",
    "    for i, archive_filename in enumerate(archive_list):\n",
    "        identifiers.append(archive_filename.split('system-')[1].split('.bin')[0])\n",
    "        sa = rebound.SimulationArchive(archive_filename)\n",
    "        \n",
    "        first_sim = sa[0]\n",
    "        periods[i] = first_sim.particles[1].P\n",
    "        \n",
    "        last_sim = sa[-1]\n",
    "        exit_times[i] = last_sim.t\n",
    "    \n",
    "    return identifiers, periods, exit_times\n",
    "\n",
    "def get_spock_probs(filename):\n",
    "    data = np.load(filename)\n",
    "    identifiers = data['identifier_list']\n",
    "    probs = data['probs']\n",
    "    \n",
    "    return identifiers, probs\n",
    "\n",
    "def get_multiplicities(identifiers):\n",
    "    sysids = np.zeros(len(identifiers))\n",
    "    places = np.zeros(len(identifiers))\n",
    "    multiplicities = np.zeros(len(identifiers))\n",
    "    \n",
    "    for i, identifier in enumerate(identifiers):\n",
    "        sysids[i] = int(identifier.rsplit('-')[0])\n",
    "        places[i] = int(identifier.rsplit('-')[1])\n",
    "        \n",
    "    for sysid in sysids:\n",
    "        multiplicities[sysids == sysid] +=1\n",
    "    \n",
    "    return multiplicities + 1"
   ]
  },
  {
   "cell_type": "code",
   "execution_count": 4,
   "metadata": {},
   "outputs": [],
   "source": [
    "def get_results(sysid, place, dirname):\n",
    "    filename = dirname + \"spock-probs-system-\" + str(sysid) + \"-\" + str(place) + \".npz\"\n",
    "    data = np.load(filename)\n",
    "    \n",
    "    return data\n",
    "\n",
    "def get_files(dirname):\n",
    "    file_list = glob.glob(dirname + \"spock-probs-system-*\")\n",
    "    \n",
    "    sys_list = []\n",
    "    place_list = []\n",
    "    \n",
    "    for file in file_list:\n",
    "        sys_list.append(int(file.split(\"-\")[4]))\n",
    "        place_list.append(int(file.split(\".\")[0].split(\"-\")[5]))\n",
    "    \n",
    "    return sys_list, place_list"
   ]
  },
  {
   "cell_type": "code",
   "execution_count": 5,
   "metadata": {},
   "outputs": [],
   "source": [
    "def get_edges_and_centres(min_val, max_val, N_bins=25):\n",
    "    edges = np.linspace(min_val, max_val, N_bins+1)\n",
    "    centres = (edges[1:] + edges[0:-1])/2\n",
    "    \n",
    "    return edges, centres\n",
    "\n",
    "def get_summary_stats(x_vals, y_vals, z_vals, x_min, x_max, y_min, y_max, N_bins=25):\n",
    "    x_edges, x_centres = get_edges_and_centres(x_min, x_max, N_bins)\n",
    "    y_edges, y_centres = get_edges_and_centres(y_min, y_max, N_bins)\n",
    "    \n",
    "    x_grid, y_grid = np.meshgrid(x_centres, y_centres, indexing='ij')\n",
    "    \n",
    "    mean_grid = np.zeros((N_bins, N_bins))\n",
    "    median_grid = np.zeros((N_bins, N_bins))\n",
    "    std_grid = np.zeros((N_bins, N_bins))\n",
    "    count_grid = np.zeros((N_bins, N_bins))\n",
    "    \n",
    "    for i in range(N_bins):\n",
    "        x_index = np.logical_and(x_vals >= x_edges[i], x_vals < x_edges[i+1])\n",
    "        for j in range(N_bins):\n",
    "            y_index = np.logical_and(y_vals >= y_edges[j], y_vals < y_edges[j+1])\n",
    "            joint_index = np.logical_and(x_index, y_index)\n",
    "            \n",
    "            mean_grid[i,j] = np.mean(z_vals[joint_index])\n",
    "            median_grid[i,j] = np.median(z_vals[joint_index])\n",
    "            std_grid[i,j] = np.std(z_vals[joint_index])\n",
    "            count_grid[i,j] = np.sum(joint_index)\n",
    "          \n",
    "    return (x_grid, y_grid, mean_grid, median_grid, std_grid, count_grid)"
   ]
  },
  {
   "cell_type": "code",
   "execution_count": 6,
   "metadata": {},
   "outputs": [],
   "source": [
    "def get_sys_info(dirname, sysid, place):\n",
    "    \n",
    "    m_earth = 3e-6\n",
    "    year = 2 * np.pi # one year in REBOUND time (in units where G=1)\n",
    "    day = year / 365 # one day in REBOUND time (in units where G=1)\n",
    "    \n",
    "    with get_results(sysid, place, dirname) as data:\n",
    "        mult = np.shape(data['period'])[0] - 1\n",
    "\n",
    "        x = data['period'][-1] / day\n",
    "        y = np.log10(data['mass'][-1] / m_earth)\n",
    "        z = 1 - data['prob']\n",
    "        \n",
    "        m_1 = np.median(data['mass'][place]) / m_earth\n",
    "        m_2 = np.median(data['mass'][place+1]) / m_earth\n",
    "        P_1 = data['period'][place][0] / day\n",
    "        P_2 = data['period'][place+1][0] / day\n",
    "    \n",
    "    scaled_period = (x - P_1) / (P_2 - P_1)\n",
    "#     not_co_orbital = np.logical_and(scaled_period > 0.04, scaled_period < 0.96)\n",
    "    not_co_orbital = scaled_period > 0\n",
    "    \n",
    "    prob_min = z[not_co_orbital].min()\n",
    "    prob_msc = np.quantile(z[not_co_orbital], 0.05)\n",
    "    prob_mean = z[not_co_orbital].mean()\n",
    "    \n",
    "    return m_1, m_2, prob_min, prob_msc, prob_mean"
   ]
  },
  {
   "cell_type": "code",
   "execution_count": 7,
   "metadata": {},
   "outputs": [],
   "source": [
    "df = pd.read_csv(\"cumulative_koi_gaia_bonomo.csv\", comment=\"#\")\n",
    "sys_list, place_list = get_files(\"spock-probs/sigma_e_p01_sigma_i_p5/\")\n",
    "\n",
    "sys_list = np.array(sys_list)\n",
    "place_list = np.array(place_list)\n",
    "\n",
    "identifiers = []\n",
    "\n",
    "for (sysid, place) in zip(sys_list, place_list):\n",
    "    identifiers.append(str(sysid) + \"-\" + str(place))\n",
    "    \n",
    "identifiers = np.array(identifiers)\n",
    "\n",
    "place_list = place_list[sys_list != 3245969]\n",
    "sys_list = sys_list[sys_list != 3245969]"
   ]
  },
  {
   "cell_type": "code",
   "execution_count": 8,
   "metadata": {},
   "outputs": [
    {
     "name": "stdout",
     "output_type": "stream",
     "text": [
      "(3.26, 11.4, 0.012492597103118896, 0.03149145841598511, 0.24120126876085995)\n",
      "(3.9, 6.8, 0.03175985813140869, 0.7263220027089119, 0.9547158332292922)\n",
      "(8.03, 1.3, 0.1922590136528015, 0.9570628559216857, 0.9899311798705719)\n",
      "(1.3, 2.0, 0.03158813714981079, 0.7513747483491898, 0.9565559275302105)\n",
      "(9.8, 38.0, 0.013939261436462402, 0.034260138869285583, 0.380773373089172)\n",
      "(0.79, 1.3, 0.16917163133621216, 0.9553765846416354, 0.987274792217277)\n",
      "(3.8, 10.0, 0.6208954155445099, 0.9908652095124125, 0.9978586498464458)\n",
      "(10.0, 7.7, 0.6844505071640015, 0.9908833150286228, 0.998028597827442)\n",
      "(4.9, 8.2, 0.010852575302124023, 0.05713844001293182, 0.6433899292537011)\n",
      "(7.7, 14.1, 0.480099618434906, 0.983538992330432, 0.9952313978912308)\n"
     ]
    }
   ],
   "source": [
    "for i, (sysid, place) in enumerate(zip(sys_list[0:10], place_list[0:10])):\n",
    "    print(get_sys_info(\"spock-probs/sigma_e_p05_sigma_i_2p5/\", sysid, place))"
   ]
  },
  {
   "cell_type": "code",
   "execution_count": 9,
   "metadata": {},
   "outputs": [],
   "source": [
    "m_1_sigma_e_p01_sigma_i_p5_old = np.zeros(len(sys_list))\n",
    "m_1_sigma_e_p01_sigma_i_p5_new = np.zeros(len(sys_list))\n",
    "\n",
    "m_2_sigma_e_p01_sigma_i_p5_old = np.zeros(len(sys_list))\n",
    "m_2_sigma_e_p01_sigma_i_p5_new = np.zeros(len(sys_list))\n",
    "\n",
    "prob_min_sigma_e_p01_sigma_i_p5_old = np.zeros(len(sys_list))\n",
    "prob_min_sigma_e_p01_sigma_i_p5_new = np.zeros(len(sys_list))\n",
    "\n",
    "prob_msc_sigma_e_p01_sigma_i_p5_old = np.zeros(len(sys_list))\n",
    "prob_msc_sigma_e_p01_sigma_i_p5_new = np.zeros(len(sys_list))\n",
    "\n",
    "prob_mean_sigma_e_p01_sigma_i_p5_old = np.zeros(len(sys_list))\n",
    "prob_mean_sigma_e_p01_sigma_i_p5_new = np.zeros(len(sys_list))\n",
    "\n",
    "for i, (sysid, place) in enumerate(zip(sys_list, place_list)):\n",
    "    m_1_sigma_e_p01_sigma_i_p5_new[i], m_2_sigma_e_p01_sigma_i_p5_new[i], \\\n",
    "    prob_min_sigma_e_p01_sigma_i_p5_new[i], prob_msc_sigma_e_p01_sigma_i_p5_new[i], \\\n",
    "    prob_mean_sigma_e_p01_sigma_i_p5_new[i] = get_sys_info(\"spock-probs/sigma_e_p01_sigma_i_p5/\", sysid, place)\n",
    "    \n",
    "    m_1_sigma_e_p01_sigma_i_p5_old[i], m_2_sigma_e_p01_sigma_i_p5_old[i], \\\n",
    "    prob_min_sigma_e_p01_sigma_i_p5_old[i], prob_msc_sigma_e_p01_sigma_i_p5_old[i], \\\n",
    "    prob_mean_sigma_e_p01_sigma_i_p5_old[i] = get_sys_info(\"../../expanded-phase-space/spock-probs/sigma_e_p01_sigma_i_p5/\", sysid, place)"
   ]
  },
  {
   "cell_type": "code",
   "execution_count": 10,
   "metadata": {},
   "outputs": [],
   "source": [
    "m_1_sigma_e_p05_sigma_i_2p5_old = np.zeros(len(sys_list))\n",
    "m_1_sigma_e_p05_sigma_i_2p5_new = np.zeros(len(sys_list))\n",
    "\n",
    "m_2_sigma_e_p05_sigma_i_2p5_old = np.zeros(len(sys_list))\n",
    "m_2_sigma_e_p05_sigma_i_2p5_new = np.zeros(len(sys_list))\n",
    "\n",
    "prob_min_sigma_e_p05_sigma_i_2p5_old = np.zeros(len(sys_list))\n",
    "prob_min_sigma_e_p05_sigma_i_2p5_new = np.zeros(len(sys_list))\n",
    "\n",
    "prob_msc_sigma_e_p05_sigma_i_2p5_old = np.zeros(len(sys_list))\n",
    "prob_msc_sigma_e_p05_sigma_i_2p5_new = np.zeros(len(sys_list))\n",
    "\n",
    "prob_mean_sigma_e_p05_sigma_i_2p5_old = np.zeros(len(sys_list))\n",
    "prob_mean_sigma_e_p05_sigma_i_2p5_new = np.zeros(len(sys_list))\n",
    "\n",
    "for i, (sysid, place) in enumerate(zip(sys_list, place_list)):\n",
    "    m_1_sigma_e_p05_sigma_i_2p5_new[i], m_2_sigma_e_p05_sigma_i_2p5_new[i], \\\n",
    "    prob_min_sigma_e_p05_sigma_i_2p5_new[i], prob_msc_sigma_e_p05_sigma_i_2p5_new[i], \\\n",
    "    prob_mean_sigma_e_p05_sigma_i_2p5_new[i] = get_sys_info(\"spock-probs/sigma_e_p05_sigma_i_2p5/\", sysid, place)\n",
    "    \n",
    "    m_1_sigma_e_p05_sigma_i_2p5_old[i], m_2_sigma_e_p05_sigma_i_2p5_old[i], \\\n",
    "    prob_min_sigma_e_p05_sigma_i_2p5_old[i], prob_msc_sigma_e_p05_sigma_i_2p5_old[i], \\\n",
    "    prob_mean_sigma_e_p05_sigma_i_2p5_old[i] = get_sys_info(\"../../expanded-phase-space/spock-probs/sigma_e_p05_sigma_i_2p5/\", sysid, place)"
   ]
  },
  {
   "cell_type": "code",
   "execution_count": 11,
   "metadata": {},
   "outputs": [],
   "source": [
    "m_1_ratio_sigma_e_p01_sigma_i_p5 = m_1_sigma_e_p01_sigma_i_p5_old / m_1_sigma_e_p01_sigma_i_p5_new\n",
    "\n",
    "m_2_ratio_sigma_e_p01_sigma_i_p5 = m_2_sigma_e_p01_sigma_i_p5_old / m_2_sigma_e_p01_sigma_i_p5_new\n",
    "\n",
    "prob_min_ratio_sigma_e_p01_sigma_i_p5 = prob_min_sigma_e_p01_sigma_i_p5_old / prob_min_sigma_e_p01_sigma_i_p5_new\n",
    "\n",
    "prob_msc_ratio_sigma_e_p01_sigma_i_p5 = prob_msc_sigma_e_p01_sigma_i_p5_old / prob_msc_sigma_e_p01_sigma_i_p5_new\n",
    "\n",
    "prob_mean_ratio_sigma_e_p01_sigma_i_p5 = prob_mean_sigma_e_p01_sigma_i_p5_old / prob_mean_sigma_e_p01_sigma_i_p5_new"
   ]
  },
  {
   "cell_type": "code",
   "execution_count": 12,
   "metadata": {},
   "outputs": [],
   "source": [
    "m_1_diff_sigma_e_p01_sigma_i_p5 = m_1_sigma_e_p01_sigma_i_p5_old - m_1_sigma_e_p01_sigma_i_p5_new\n",
    "\n",
    "m_2_diff_sigma_e_p01_sigma_i_p5 = m_2_sigma_e_p01_sigma_i_p5_old - m_2_sigma_e_p01_sigma_i_p5_new\n",
    "\n",
    "prob_min_diff_sigma_e_p01_sigma_i_p5 = prob_min_sigma_e_p01_sigma_i_p5_old - prob_min_sigma_e_p01_sigma_i_p5_new\n",
    "\n",
    "prob_msc_diff_sigma_e_p01_sigma_i_p5 = prob_msc_sigma_e_p01_sigma_i_p5_old - prob_msc_sigma_e_p01_sigma_i_p5_new\n",
    "\n",
    "prob_mean_diff_sigma_e_p01_sigma_i_p5 = prob_mean_sigma_e_p01_sigma_i_p5_old - prob_mean_sigma_e_p01_sigma_i_p5_new"
   ]
  },
  {
   "cell_type": "code",
   "execution_count": 13,
   "metadata": {},
   "outputs": [],
   "source": [
    "m_1_ratio_sigma_e_p05_sigma_i_2p5 = m_1_sigma_e_p05_sigma_i_2p5_old / m_1_sigma_e_p05_sigma_i_2p5_new\n",
    "\n",
    "m_2_ratio_sigma_e_p05_sigma_i_2p5 = m_2_sigma_e_p05_sigma_i_2p5_old / m_2_sigma_e_p05_sigma_i_2p5_new\n",
    "\n",
    "prob_min_ratio_sigma_e_p05_sigma_i_2p5 = prob_min_sigma_e_p05_sigma_i_2p5_old / prob_min_sigma_e_p05_sigma_i_2p5_new\n",
    "\n",
    "prob_msc_ratio_sigma_e_p05_sigma_i_2p5 = prob_msc_sigma_e_p05_sigma_i_2p5_old / prob_msc_sigma_e_p05_sigma_i_2p5_new\n",
    "\n",
    "prob_mean_ratio_sigma_e_p05_sigma_i_2p5 = prob_mean_sigma_e_p05_sigma_i_2p5_old / prob_mean_sigma_e_p05_sigma_i_2p5_new"
   ]
  },
  {
   "cell_type": "code",
   "execution_count": 14,
   "metadata": {},
   "outputs": [],
   "source": [
    "m_1_diff_sigma_e_p05_sigma_i_2p5 = m_1_sigma_e_p05_sigma_i_2p5_old - m_1_sigma_e_p05_sigma_i_2p5_new\n",
    "\n",
    "m_2_diff_sigma_e_p05_sigma_i_2p5 = m_2_sigma_e_p05_sigma_i_2p5_old - m_2_sigma_e_p05_sigma_i_2p5_new\n",
    "\n",
    "prob_min_diff_sigma_e_p05_sigma_i_2p5 = prob_min_sigma_e_p05_sigma_i_2p5_old - prob_min_sigma_e_p05_sigma_i_2p5_new\n",
    "\n",
    "prob_msc_diff_sigma_e_p05_sigma_i_2p5 = prob_msc_sigma_e_p05_sigma_i_2p5_old - prob_msc_sigma_e_p05_sigma_i_2p5_new\n",
    "\n",
    "prob_mean_diff_sigma_e_p05_sigma_i_2p5 = prob_mean_sigma_e_p05_sigma_i_2p5_old - prob_mean_sigma_e_p05_sigma_i_2p5_new"
   ]
  },
  {
   "cell_type": "code",
   "execution_count": 15,
   "metadata": {},
   "outputs": [
    {
     "name": "stdout",
     "output_type": "stream",
     "text": [
      "sigma_e = 0.01, sigma_i = 0.5dg\n",
      "ratios are [forecaster masses value] / [bonomo+(2023) masses value]\n",
      "note: forecaster masses values for m_1 and m_2 use their median values\n",
      "      for each adjacent pair's inner/outer planet mass distribution\n",
      "m_1 ratio mean, max, std: 0.6395995921978961 1.405277205961589 0.41617248216917807\n",
      "m_2 ratio mean, max, std: 0.6730265617988813 2.419411519279041 0.5142009432564699\n",
      "prob_mean ratio mean, max, std: 0.9726042617548702 1.1330025591428547 0.05780752535262512\n",
      "prob_msc ratio mean, max, std: 0.8398822728417026 1.4357500521604805 0.2363963142049613\n"
     ]
    }
   ],
   "source": [
    "print(\"sigma_e = 0.01, sigma_i = 0.5dg\")\n",
    "print(\"ratios are [forecaster masses value] / [bonomo+(2023) masses value]\")\n",
    "print(\"note: forecaster masses values for m_1 and m_2 use their median values\")\n",
    "print(\"      for each adjacent pair's inner/outer planet mass distribution\")\n",
    "print(\"m_1 ratio mean, max, std:\", m_1_ratio_sigma_e_p01_sigma_i_p5.mean(), m_1_ratio_sigma_e_p01_sigma_i_p5.max(), m_1_ratio_sigma_e_p01_sigma_i_p5.std())\n",
    "print(\"m_2 ratio mean, max, std:\", m_2_ratio_sigma_e_p01_sigma_i_p5.mean(), m_2_ratio_sigma_e_p01_sigma_i_p5.max(), m_2_ratio_sigma_e_p01_sigma_i_p5.std())\n",
    "\n",
    "print(\"prob_mean ratio mean, max, std:\", prob_mean_ratio_sigma_e_p01_sigma_i_p5.mean(), prob_mean_ratio_sigma_e_p01_sigma_i_p5.max(), prob_mean_ratio_sigma_e_p01_sigma_i_p5.std())\n",
    "print(\"prob_msc ratio mean, max, std:\", prob_msc_ratio_sigma_e_p01_sigma_i_p5.mean(), prob_msc_ratio_sigma_e_p01_sigma_i_p5.max(), prob_msc_ratio_sigma_e_p01_sigma_i_p5.std())"
   ]
  },
  {
   "cell_type": "code",
   "execution_count": 16,
   "metadata": {},
   "outputs": [
    {
     "name": "stdout",
     "output_type": "stream",
     "text": [
      "sigma_e = 0.01, sigma_i = 0.5dg\n",
      "diffss are [forecaster masses value] - [bonomo+(2023) masses value]\n",
      "note: forecaster masses values for m_1 and m_2 use their median values\n",
      "      for each adjacent pair's inner/outer planet mass distribution\n",
      "m_1 diff mean, max, std: -1.3145061051765594 1.9845550326330352 2.31001859668399\n",
      "m_2 diff mean, max, std: -2.8537084563811197 2.8388230385580817 3.5165001723005784\n",
      "prob_mean diff mean, max, std: -0.023489148471183652 0.08436923759402704 0.04298059003612431\n",
      "prob_msc diff mean, max, std: -0.07244015127006503 0.025058770179748537 0.0925840657100393\n"
     ]
    }
   ],
   "source": [
    "print(\"sigma_e = 0.01, sigma_i = 0.5dg\")\n",
    "print(\"diffss are [forecaster masses value] - [bonomo+(2023) masses value]\")\n",
    "print(\"note: forecaster masses values for m_1 and m_2 use their median values\")\n",
    "print(\"      for each adjacent pair's inner/outer planet mass distribution\")\n",
    "print(\"m_1 diff mean, max, std:\", m_1_diff_sigma_e_p01_sigma_i_p5.mean(), m_1_diff_sigma_e_p01_sigma_i_p5.max(), m_1_diff_sigma_e_p01_sigma_i_p5.std())\n",
    "print(\"m_2 diff mean, max, std:\", m_2_diff_sigma_e_p01_sigma_i_p5.mean(), m_2_diff_sigma_e_p01_sigma_i_p5.max(), m_2_diff_sigma_e_p01_sigma_i_p5.std())\n",
    "\n",
    "print(\"prob_mean diff mean, max, std:\", prob_mean_diff_sigma_e_p01_sigma_i_p5.mean(), prob_mean_diff_sigma_e_p01_sigma_i_p5.max(), prob_mean_diff_sigma_e_p01_sigma_i_p5.std())\n",
    "print(\"prob_msc diff mean, max, std:\", prob_msc_diff_sigma_e_p01_sigma_i_p5.mean(), prob_msc_diff_sigma_e_p01_sigma_i_p5.max(), prob_msc_diff_sigma_e_p01_sigma_i_p5.std())"
   ]
  },
  {
   "cell_type": "code",
   "execution_count": 17,
   "metadata": {},
   "outputs": [
    {
     "name": "stdout",
     "output_type": "stream",
     "text": [
      "sigma_e = 0.05, sigma_i = 2.5dg\n",
      "ratios are [forecaster masses value] / [bonomo+(2023) masses value]\n",
      "note: forecaster masses values for m_1 and m_2 use their median values\n",
      "      for each adjacent pair's inner/outer planet mass distribution\n",
      "m_1 ratio mean, max, std: 0.6395995921978961 1.405277205961589 0.41617248216917807\n",
      "m_2 ratio mean, max, std: 0.6730265617988813 2.419411519279041 0.5142009432564699\n",
      "prob_mean ratio mean, max, std: 0.9883621360445295 1.0191609471490206 0.03080593012521092\n",
      "prob_msc ratio mean, max, std: 0.9566150007983959 1.1928884424101869 0.11803977300301433\n"
     ]
    }
   ],
   "source": [
    "print(\"sigma_e = 0.05, sigma_i = 2.5dg\")\n",
    "print(\"ratios are [forecaster masses value] / [bonomo+(2023) masses value]\")\n",
    "print(\"note: forecaster masses values for m_1 and m_2 use their median values\")\n",
    "print(\"      for each adjacent pair's inner/outer planet mass distribution\")\n",
    "print(\"m_1 ratio mean, max, std:\", m_1_ratio_sigma_e_p05_sigma_i_2p5.mean(), m_1_ratio_sigma_e_p05_sigma_i_2p5.max(), m_1_ratio_sigma_e_p05_sigma_i_2p5.std())\n",
    "print(\"m_2 ratio mean, max, std:\", m_2_ratio_sigma_e_p05_sigma_i_2p5.mean(), m_2_ratio_sigma_e_p05_sigma_i_2p5.max(), m_2_ratio_sigma_e_p05_sigma_i_2p5.std())\n",
    "\n",
    "print(\"prob_mean ratio mean, max, std:\", prob_mean_ratio_sigma_e_p05_sigma_i_2p5.mean(), prob_mean_ratio_sigma_e_p05_sigma_i_2p5.max(), prob_mean_ratio_sigma_e_p05_sigma_i_2p5.std())\n",
    "print(\"prob_msc ratio mean, max, std:\", prob_msc_ratio_sigma_e_p05_sigma_i_2p5.mean(), prob_msc_ratio_sigma_e_p05_sigma_i_2p5.max(), prob_msc_ratio_sigma_e_p05_sigma_i_2p5.std())"
   ]
  },
  {
   "cell_type": "code",
   "execution_count": 19,
   "metadata": {},
   "outputs": [
    {
     "name": "stdout",
     "output_type": "stream",
     "text": [
      "sigma_e = 0.05, sigma_i = 2.5dg\n",
      "diffs are [forecaster masses value] - [bonomo+(2023) masses value]\n",
      "note: forecaster masses values for m_1 and m_2 use their median values\n",
      "      for each adjacent pair's inner/outer planet mass distribution\n",
      "m_1 diff mean, max, std: -1.3145061051765594 1.9845550326330352 2.31001859668399\n",
      "m_2 diff mean, max, std: -2.8537084563811197 2.8388230385580817 3.5165001723005784\n",
      "prob_mean diff mean, max, std: -0.009234721578041926 0.018328517572488656 0.022556336167366266\n",
      "prob_msc diff mean, max, std: -0.026007316418043856 0.1449315048754214 0.0729641351743765\n"
     ]
    }
   ],
   "source": [
    "print(\"sigma_e = 0.05, sigma_i = 2.5dg\")\n",
    "print(\"diffs are [forecaster masses value] - [bonomo+(2023) masses value]\")\n",
    "print(\"note: forecaster masses values for m_1 and m_2 use their median values\")\n",
    "print(\"      for each adjacent pair's inner/outer planet mass distribution\")\n",
    "print(\"m_1 diff mean, max, std:\", m_1_diff_sigma_e_p05_sigma_i_2p5.mean(), m_1_diff_sigma_e_p05_sigma_i_2p5.max(), m_1_diff_sigma_e_p05_sigma_i_2p5.std())\n",
    "print(\"m_2 diff mean, max, std:\", m_2_diff_sigma_e_p05_sigma_i_2p5.mean(), m_2_diff_sigma_e_p05_sigma_i_2p5.max(), m_2_diff_sigma_e_p05_sigma_i_2p5.std())\n",
    "\n",
    "print(\"prob_mean diff mean, max, std:\", prob_mean_diff_sigma_e_p05_sigma_i_2p5.mean(), prob_mean_diff_sigma_e_p05_sigma_i_2p5.max(), prob_mean_diff_sigma_e_p05_sigma_i_2p5.std())\n",
    "print(\"prob_msc diff mean, max, std:\", prob_msc_diff_sigma_e_p05_sigma_i_2p5.mean(), prob_msc_diff_sigma_e_p05_sigma_i_2p5.max(), prob_msc_diff_sigma_e_p05_sigma_i_2p5.std())"
   ]
  },
  {
   "cell_type": "code",
   "execution_count": 20,
   "metadata": {},
   "outputs": [
    {
     "data": {
      "text/plain": [
       "array([ 2989404,  4914423,  5094751,  6850504,  6850504,  6850504,\n",
       "        6850504,  8478994,  8478994, 10187017, 10187017, 10187017,\n",
       "       10187017, 10875245, 10875245, 10875245, 11295426, 11904151])"
      ]
     },
     "execution_count": 20,
     "metadata": {},
     "output_type": "execute_result"
    }
   ],
   "source": [
    "np.sort(sys_list)"
   ]
  },
  {
   "cell_type": "code",
   "execution_count": 30,
   "metadata": {},
   "outputs": [
    {
     "data": {
      "text/plain": [
       "(array([3.06593938e+00, 3.19579991e+00, 6.20634389e+00, 3.40184651e-01,\n",
       "        1.10932822e+01, 1.04320430e-02, 3.47225500e+00, 4.36214100e+00,\n",
       "        6.88455503e+00, 1.42320437e+00, 9.20895202e-02, 9.01529578e+00,\n",
       "        6.08049505e-01, 2.15545291e-01, 6.60480287e+00, 4.74070403e-01,\n",
       "        4.01483469e+00, 2.20006461e+00]),\n",
       " array([ 3.26,  3.9 ,  8.03,  1.3 ,  9.8 ,  0.79,  3.8 , 10.  ,  4.9 ,\n",
       "         7.7 ,  1.1 , 11.1 ,  1.4 ,  1.7 ,  4.7 ,  0.76,  9.7 ,  3.  ]))"
      ]
     },
     "execution_count": 30,
     "metadata": {},
     "output_type": "execute_result"
    }
   ],
   "source": [
    "m_1_sigma_e_p05_sigma_i_2p5_old, m_1_sigma_e_p05_sigma_i_2p5_new"
   ]
  },
  {
   "cell_type": "code",
   "execution_count": 28,
   "metadata": {},
   "outputs": [
    {
     "data": {
      "text/plain": [
       "(array([11904151,  2989404, 11295426,  8478994,  4914423,  8478994,\n",
       "        10875245, 10875245,  5094751, 10875245, 10187017,  6850504,\n",
       "         6850504, 10187017, 10187017,  6850504,  6850504, 10187017]),\n",
       " array([0, 0, 0, 1, 0, 0, 0, 1, 0, 2, 0, 2, 3, 1, 3, 1, 0, 2]))"
      ]
     },
     "execution_count": 28,
     "metadata": {},
     "output_type": "execute_result"
    }
   ],
   "source": [
    "sys_list, place_list"
   ]
  },
  {
   "cell_type": "code",
   "execution_count": null,
   "metadata": {},
   "outputs": [],
   "source": []
  }
 ],
 "metadata": {
  "kernelspec": {
   "display_name": "Python 3",
   "language": "python",
   "name": "python3"
  },
  "language_info": {
   "codemirror_mode": {
    "name": "ipython",
    "version": 3
   },
   "file_extension": ".py",
   "mimetype": "text/x-python",
   "name": "python",
   "nbconvert_exporter": "python",
   "pygments_lexer": "ipython3",
   "version": "3.5.4"
  }
 },
 "nbformat": 4,
 "nbformat_minor": 1
}
