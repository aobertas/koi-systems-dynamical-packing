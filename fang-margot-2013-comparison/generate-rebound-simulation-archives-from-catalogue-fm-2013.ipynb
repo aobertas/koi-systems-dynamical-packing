{
 "cells": [
  {
   "cell_type": "code",
   "execution_count": 2,
   "metadata": {},
   "outputs": [
    {
     "name": "stderr",
     "output_type": "stream",
     "text": [
      "/Users/alysa/miniconda3/envs/astroconda/lib/python3.5/site-packages/xgboost/__init__.py:29: FutureWarning: Python 3.5 support is deprecated; XGBoost will require Python 3.6+ in the near future. Consider upgrading to Python 3.6+.\n",
      "  FutureWarning)\n"
     ]
    }
   ],
   "source": [
    "import numpy as np\n",
    "import pandas as pd\n",
    "import rebound\n",
    "import spock\n",
    "import matplotlib.pyplot as plt\n",
    "% matplotlib inline\n",
    "np.random.seed(2)"
   ]
  },
  {
   "cell_type": "code",
   "execution_count": 3,
   "metadata": {},
   "outputs": [],
   "source": [
    "df = pd.read_csv(\"../generate-tables/cumulative_koi_gaia_dr2_mass_inc.csv\", comment=\"#\")"
   ]
  },
  {
   "cell_type": "code",
   "execution_count": 4,
   "metadata": {},
   "outputs": [],
   "source": [
    "def sys_to_rebound_sim(sysid):\n",
    "    \n",
    "    m_earth = 3e-6\n",
    "    year = 2 * np.pi # one year in REBOUND time (in units where G=1)\n",
    "    day = year / 365 # one day in REBOUND time (in units where G=1)\n",
    "    \n",
    "    system = df[df['kepid'] == sysid].sort_values(by='koi_period')\n",
    "    \n",
    "    sim = rebound.Simulation()\n",
    "        \n",
    "    sim.add(m=system['koi_smass'].iloc[0])\n",
    "\n",
    "    for i, planet in system.iterrows():\n",
    "        mass = planet['koi_pmass'] * m_earth\n",
    "        period = planet['koi_period'] * day\n",
    "        ecc = 0\n",
    "        inc = planet['koi_pinc']\n",
    "        pomega = np.random.uniform(0, 2*np.pi)\n",
    "        Omega = np.random.uniform(0, 2*np.pi)\n",
    "        f = np.random.uniform(0, 2*np.pi)\n",
    "    \n",
    "        sim.add(m=mass, P=period, e=ecc, inc=inc, pomega=pomega, Omega=Omega,f=f)\n",
    "            \n",
    "    sim.move_to_com()\n",
    "    \n",
    "    return sim\n",
    "        "
   ]
  },
  {
   "cell_type": "code",
   "execution_count": 5,
   "metadata": {},
   "outputs": [],
   "source": [
    "def insert_test_particle(sim, sysid, dirname):\n",
    "    \n",
    "    m_earth = 3e-6\n",
    "    mass_test = 3.671 * m_earth\n",
    "    ecc_test = 0\n",
    "    inc_test = np.random.rayleigh(np.random.rayleigh(1)) * np.pi / 180\n",
    "    pomega_test = np.random.uniform(0, 2*np.pi)\n",
    "    Omega_test = np.random.uniform(0, 2*np.pi)\n",
    "    f_test = np.random.uniform(0, 2*np.pi)\n",
    "    \n",
    "    N_planets = len(sim.particles[1:])\n",
    "    N_pair = N_planets - 1\n",
    "    \n",
    "    m_star = sim.particles[0].m\n",
    "    \n",
    "    test_particle_systems = []\n",
    "    \n",
    "    for i in range(N_pair):\n",
    "        new_sim = sim.copy()\n",
    "        \n",
    "        a_inner = new_sim.particles[i+1].a\n",
    "        a_outer = new_sim.particles[i+2].a\n",
    "        \n",
    "        mass_inner = new_sim.particles[i+1].m\n",
    "        mass_outer = new_sim.particles[i+2].m\n",
    "        \n",
    "        hill_inner = a_inner * (mass_inner / m_star / 3) ** (1/3)\n",
    "        hill_outer = a_outer * (mass_outer / m_star / 3) ** (1/3)\n",
    "        \n",
    "        spacing = (a_outer - a_inner) / (hill_inner + hill_outer)\n",
    "        a_test = a_inner + spacing * hill_inner\n",
    "        \n",
    "        new_sim.add(m=mass_test, a=a_test, e=ecc_test, inc=inc_test, pomega=pomega_test, Omega=Omega_test, f=f_test)\n",
    "        ps = new_sim.particles\n",
    "        \n",
    "        maxd = np.array([p.d for p in new_sim.particles[1:new_sim.N_real]]).max()\n",
    "        new_sim.exit_max_distance = 100*maxd\n",
    "\n",
    "        for p in new_sim.particles[1:new_sim.N_real]:\n",
    "            rH = p.a*(p.m/3./new_sim.particles[0].m)**(1./3.)\n",
    "            p.r = rH\n",
    "        \n",
    "        new_sim.move_to_com()\n",
    "        new_sim.collision=\"line\"\n",
    "        new_sim.integrator=\"whfast\"\n",
    "        new_sim.dt = 0.05*ps[1].P\n",
    "        new_sim.ri_whfast.safe_mode=0\n",
    "        \n",
    "        archive_file_name = dirname + \"/system-\" + str(sysid) + \"-\" + str(i) + \".bin\"\n",
    "        \n",
    "        new_sim.save(archive_file_name)\n",
    "        \n",
    "    return None\n",
    "        "
   ]
  },
  {
   "cell_type": "code",
   "execution_count": 6,
   "metadata": {},
   "outputs": [],
   "source": [
    "for sysid in df['kepid'].unique():\n",
    "    insert_test_particle(sys_to_rebound_sim(sysid), sysid, \"simulation-archives/original-archives\")"
   ]
  },
  {
   "cell_type": "code",
   "execution_count": null,
   "metadata": {},
   "outputs": [],
   "source": []
  },
  {
   "cell_type": "code",
   "execution_count": null,
   "metadata": {},
   "outputs": [],
   "source": [
    "# count number of systems as f'n of multiplicity\n",
    "\n",
    "n_2_planet = 0\n",
    "n_3_planet = 0\n",
    "n_4_planet = 0\n",
    "n_5plus_planet = 0\n",
    "\n",
    "for sysid in df[df['koi_prad'] < 20]['kepid'].unique():\n",
    "    if len(df[df['kepid'] == sysid]) == 2:\n",
    "        n_2_planet += 1\n",
    "    elif len(df[df['kepid'] == sysid]) == 3:\n",
    "        n_3_planet +=1\n",
    "    elif len(df[df['kepid'] == sysid]) == 4:\n",
    "        n_4_planet +=1\n",
    "    elif len(df[df['kepid'] == sysid]) >= 5:\n",
    "        n_5plus_planet +=1"
   ]
  },
  {
   "cell_type": "code",
   "execution_count": null,
   "metadata": {},
   "outputs": [],
   "source": [
    "print(n_2_planet, n_3_planet, n_4_planet, n_5plus_planet)"
   ]
  },
  {
   "cell_type": "code",
   "execution_count": null,
   "metadata": {},
   "outputs": [],
   "source": []
  }
 ],
 "metadata": {
  "kernelspec": {
   "display_name": "Python 3",
   "language": "python",
   "name": "python3"
  },
  "language_info": {
   "codemirror_mode": {
    "name": "ipython",
    "version": 3
   },
   "file_extension": ".py",
   "mimetype": "text/x-python",
   "name": "python",
   "nbconvert_exporter": "python",
   "pygments_lexer": "ipython3",
   "version": "3.5.4"
  }
 },
 "nbformat": 4,
 "nbformat_minor": 1
}
