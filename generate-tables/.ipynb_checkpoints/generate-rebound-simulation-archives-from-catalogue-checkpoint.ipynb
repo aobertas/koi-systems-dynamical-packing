{
 "cells": [
  {
   "cell_type": "code",
   "execution_count": 1,
   "metadata": {},
   "outputs": [
    {
     "name": "stderr",
     "output_type": "stream",
     "text": [
      "/Users/alysa/miniconda3/envs/astroconda/lib/python3.5/site-packages/h5py/__init__.py:36: FutureWarning: Conversion of the second argument of issubdtype from `float` to `np.floating` is deprecated. In future, it will be treated as `np.float64 == np.dtype(float).type`.\n",
      "  from ._conv import register_converters as _register_converters\n",
      "/Users/alysa/miniconda3/envs/astroconda/lib/python3.5/site-packages/xgboost/__init__.py:28: FutureWarning: Python 3.5 support is deprecated; XGBoost will require Python 3.6+ in the near future. Consider upgrading to Python 3.6+.\n",
      "  FutureWarning)\n"
     ]
    }
   ],
   "source": [
    "import numpy as np\n",
    "import mr_forecast as mr\n",
    "import pandas as pd\n",
    "import rebound\n",
    "import spock\n",
    "import matplotlib.pyplot as plt\n",
    "% matplotlib inline"
   ]
  },
  {
   "cell_type": "code",
   "execution_count": 2,
   "metadata": {},
   "outputs": [],
   "source": [
    "df = pd.read_csv(\"q1_q17_dr25_koi_2020.03.19_13.12.41.csv\", comment=\"#\")"
   ]
  },
  {
   "cell_type": "code",
   "execution_count": 3,
   "metadata": {},
   "outputs": [],
   "source": [
    "def sys_to_rebound_sim(sysid):\n",
    "    np.random.seed(sysid)\n",
    "    \n",
    "    m_earth = 3e-6\n",
    "    year = 2 * np.pi # one year in REBOUND time (in units where G=1)\n",
    "    day = year / 365 # one day in REBOUND time (in units where G=1)\n",
    "    \n",
    "    system = df[df['kepid'] == sysid].sort_values(by='koi_period')\n",
    "    \n",
    "    sim = rebound.Simulation()\n",
    "        \n",
    "    sim.add(m=system['koi_smass'].iloc[0])\n",
    "\n",
    "    for i, planet in system.iterrows():\n",
    "        mass = mr.Rpost2M([planet['koi_prad']], unit='Earth', grid_size=1e3, classify='No')[0] * m_earth\n",
    "        period = planet['koi_period'] * day\n",
    "        ecc = 0\n",
    "        inc = 0\n",
    "        pomega = np.random.uniform(0, 2*np.pi)\n",
    "        Omega = np.random.uniform(0, 2*np.pi)\n",
    "        f = np.random.uniform(0, 2*np.pi)\n",
    "    \n",
    "        sim.add(m=mass, P=period, e=ecc, inc=inc, pomega=pomega, Omega=Omega,f=f)\n",
    "            \n",
    "    sim.move_to_com()\n",
    "    \n",
    "    return sim\n",
    "        "
   ]
  },
  {
   "cell_type": "code",
   "execution_count": 4,
   "metadata": {},
   "outputs": [],
   "source": [
    "def insert_test_particle(sim, sysid):\n",
    "    np.random.seed(sysid)\n",
    "    \n",
    "    mass_test = 1e-10\n",
    "    ecc_test = 0\n",
    "    inc_test = 0\n",
    "    pomega_test = np.random.uniform(0, 2*np.pi)\n",
    "    Omega_test = np.random.uniform(0, 2*np.pi)\n",
    "    f_test = np.random.uniform(0, 2*np.pi)\n",
    "    \n",
    "    m_earth = 3e-6\n",
    "    year = 2 * np.pi # one year in REBOUND time (in units where G=1)\n",
    "    day = year / 365 # one day in REBOUND time (in units where G=1)\n",
    "    \n",
    "    N_planets = len(sim.particles[1:])\n",
    "    N_pair = N_planets - 1\n",
    "    \n",
    "    m_star = sim.particles[0].m\n",
    "    \n",
    "    test_particle_systems = []\n",
    "    \n",
    "    for i in range(N_pair):\n",
    "        new_sim = sim.copy()\n",
    "        \n",
    "        a_inner = new_sim.particles[i+1].a\n",
    "        a_outer = new_sim.particles[i+2].a\n",
    "        \n",
    "        mass_inner = new_sim.particles[i+1].m\n",
    "        mass_outer = new_sim.particles[i+2].m\n",
    "        \n",
    "        hill_inner = a_inner * (mass_inner / m_star / 3) ** (1/3)\n",
    "        hill_outer = a_outer * (mass_outer / m_star / 3) ** (1/3)\n",
    "        \n",
    "        spacing = (a_outer - a_inner) / (hill_inner + hill_outer)\n",
    "        a_test = a_inner + spacing * hill_inner\n",
    "        \n",
    "        new_sim.add(m=mass_test, a=a_test, e=ecc_test, inc=inc_test, pomega=pomega_test, Omega=Omega_test, f=f_test)\n",
    "        \n",
    "        new_sim.move_to_com()\n",
    "        new_sim.collision=\"line\"\n",
    "        new_sim.integrator=\"whfast\"\n",
    "        new_sim.dt = 0.05*ps[1].P\n",
    "        new_sim.ri_whfast.safe_mode=0\n",
    "        \n",
    "        archive_file_name = \"../koi-catalogue-simple-tests/simulation-archives/system-\" + str(sysid) + \"-\" + str(i) + \".bin\"\n",
    "        \n",
    "        new_sim.save(archive_file_name)\n",
    "        \n",
    "    return None\n",
    "        "
   ]
  },
  {
   "cell_type": "code",
   "execution_count": 7,
   "metadata": {},
   "outputs": [
    {
     "name": "stderr",
     "output_type": "stream",
     "text": [
      "/Users/alysa/work/github-repos/spock/spock/simsetup.py:21: ComplexWarning: Casting complex values to real discards the imaginary part\n",
      "  sim.dt = dtfrac*minTperi # Wisdom 2015 suggests 0.05, 0.07 fine for short integrations\n"
     ]
    }
   ],
   "source": [
    "for sysid in df[df['koi_prad'] < 20]['kepid'].unique():\n",
    "    if len(df[df['kepid'] == sysid]) >= 2:\n",
    "        for test_sim in insert_test_particle(sys_to_rebound_sim(sysid), sysid):"
   ]
  }
 ],
 "metadata": {
  "kernelspec": {
   "display_name": "Python 3",
   "language": "python",
   "name": "python3"
  },
  "language_info": {
   "codemirror_mode": {
    "name": "ipython",
    "version": 3
   },
   "file_extension": ".py",
   "mimetype": "text/x-python",
   "name": "python",
   "nbconvert_exporter": "python",
   "pygments_lexer": "ipython3",
   "version": "3.5.4"
  }
 },
 "nbformat": 4,
 "nbformat_minor": 1
}
