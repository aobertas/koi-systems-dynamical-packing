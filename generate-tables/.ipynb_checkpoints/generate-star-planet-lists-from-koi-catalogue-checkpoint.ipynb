{
 "cells": [
  {
   "cell_type": "code",
   "execution_count": 1,
   "metadata": {},
   "outputs": [
    {
     "name": "stderr",
     "output_type": "stream",
     "text": [
      "/Users/alysa/miniconda3/envs/astroconda/lib/python3.5/site-packages/h5py/__init__.py:36: FutureWarning: Conversion of the second argument of issubdtype from `float` to `np.floating` is deprecated. In future, it will be treated as `np.float64 == np.dtype(float).type`.\n",
      "  from ._conv import register_converters as _register_converters\n",
      "/Users/alysa/miniconda3/envs/astroconda/lib/python3.5/site-packages/xgboost/__init__.py:28: FutureWarning: Python 3.5 support is deprecated; XGBoost will require Python 3.6+ in the near future. Consider upgrading to Python 3.6+.\n",
      "  FutureWarning)\n"
     ]
    }
   ],
   "source": [
    "import numpy as np\n",
    "import mr_forecast as mr\n",
    "import pandas as pd\n",
    "import rebound\n",
    "import spock\n",
    "import matplotlib.pyplot as plt\n",
    "% matplotlib inline"
   ]
  },
  {
   "cell_type": "code",
   "execution_count": 2,
   "metadata": {},
   "outputs": [],
   "source": [
    "df = pd.read_csv(\"q1_q17_dr25_koi_2020.03.19_13.12.41.csv\", comment=\"#\")"
   ]
  },
  {
   "cell_type": "code",
   "execution_count": null,
   "metadata": {},
   "outputs": [],
   "source": [
    "df.columns"
   ]
  },
  {
   "cell_type": "code",
   "execution_count": null,
   "metadata": {},
   "outputs": [],
   "source": [
    "len(df[df['koi_prad'] < 20]['kepid'].unique())"
   ]
  },
  {
   "cell_type": "code",
   "execution_count": null,
   "metadata": {},
   "outputs": [],
   "source": [
    "for system in df['kepid'].unique():\n",
    "    if len(df[df['kepid'] == system]) >= 2:\n",
    "        print(system)\n",
    "#         sim = rebound.simulation()\n",
    "        \n",
    "#         sim = rebound.Simulation()\n",
    "#         sim.add(m=df[df['kepid'] == system]['koi_smass'].iloc[0])\n",
    "\n",
    "#         for i in range(len(df[df['kepid'] == system])):\n",
    "#             mass = mr.Rpost2M([df[df['kepid'] == system]['koi_smass'].iloc[0]], unit='Earth', grid_size=1e3, classify='No')\n",
    "            \n",
    "#             sim.add(m=m_planets[nsim, i], P=P_planets[nsim, i], e=e_rand[nsim, i], inc=inc_rand[nsim, i], \\\n",
    "#                 pomega=pomega_rand[nsim, i], f=f_rand[nsim, i])\n",
    "#             sim.add(m=m_test, P=P_test_rand[nsim], e=e_test, inc=inc_test, pomega=pomega_test, f=f_test)\n",
    "#         sim.move_to_com()\n",
    "        \n",
    "#         print(df[df['kepid'] == system][['koi_prad', 'koi_prad_err1', 'koi_prad_err2']])\n",
    "#         print(df[df['kepid'] == system].apply(calc_median_mass, axis=1))\n",
    "#             print(planet['koi_prad'])\n",
    "#         print(df[df['kepid'] == system]['koi_smass'].iloc[0])\n",
    "#         print(df['kepid'])\n",
    "#         sim = rebound.simulation()"
   ]
  },
  {
   "cell_type": "code",
   "execution_count": null,
   "metadata": {},
   "outputs": [],
   "source": [
    "sysid = 6521045\n",
    "system = df[df['kepid'] == sysid].sort_values(by='koi_period')\n",
    "print(system)"
   ]
  },
  {
   "cell_type": "code",
   "execution_count": null,
   "metadata": {},
   "outputs": [],
   "source": [
    "m_earth = 3e-6\n",
    "year = 2 * np.pi # one year in REBOUND time (in units where G=1)\n",
    "day = year / 365 # one day in REBOUND time (in units where G=1)\n",
    "\n",
    "sim = rebound.Simulation()\n",
    "        \n",
    "sim.add(m=system['koi_smass'].iloc[0])\n",
    "\n",
    "for i, planet in system.iterrows():\n",
    "    mass = mr.Rpost2M([planet['koi_prad']], unit='Earth', grid_size=1e3, classify='No')[0] * m_earth\n",
    "    period = planet['koi_period'] * day\n",
    "    ecc = 0\n",
    "    inc = 0\n",
    "    pomega = np.random.uniform(0, 2*np.pi)\n",
    "    Omega = np.random.uniform(0, 2*np.pi)\n",
    "    f = np.random.uniform(0, 2*np.pi)\n",
    "    \n",
    "    sim.add(m=mass, P=period, e=ecc, inc=inc, pomega=pomega, Omega=Omega,f=f)\n",
    "\n",
    "# sim.add(m=1e-6*m_earth, P=P_test_rand[nsim], e=e_test, inc=inc_test, pomega=pomega_test, f=f_test)\n",
    "            \n",
    "sim.move_to_com()\n",
    "for p in sim.particles[1:]:\n",
    "    print(p.orbit)\n",
    "    \n",
    "rebound.OrbitPlot(sim)\n",
    "        "
   ]
  },
  {
   "cell_type": "code",
   "execution_count": 3,
   "metadata": {},
   "outputs": [],
   "source": [
    "def sys_to_rebound_sim(sysid):\n",
    "    m_earth = 3e-6\n",
    "    year = 2 * np.pi # one year in REBOUND time (in units where G=1)\n",
    "    day = year / 365 # one day in REBOUND time (in units where G=1)\n",
    "    \n",
    "    system = df[df['kepid'] == sysid].sort_values(by='koi_period')\n",
    "    \n",
    "    sim = rebound.Simulation()\n",
    "        \n",
    "    sim.add(m=system['koi_smass'].iloc[0])\n",
    "\n",
    "    for i, planet in system.iterrows():\n",
    "        mass = mr.Rpost2M([planet['koi_prad']], unit='Earth', grid_size=1e3, classify='No')[0] * m_earth\n",
    "        period = planet['koi_period'] * day\n",
    "        ecc = 0\n",
    "        inc = 0\n",
    "        pomega = np.random.uniform(0, 2*np.pi)\n",
    "        Omega = np.random.uniform(0, 2*np.pi)\n",
    "        f = np.random.uniform(0, 2*np.pi)\n",
    "    \n",
    "        sim.add(m=mass, P=period, e=ecc, inc=inc, pomega=pomega, Omega=Omega,f=f)\n",
    "            \n",
    "    sim.move_to_com()\n",
    "    \n",
    "    return sim\n",
    "        "
   ]
  },
  {
   "cell_type": "code",
   "execution_count": null,
   "metadata": {},
   "outputs": [],
   "source": [
    "rebound.OrbitPlot(sys_to_rebound_sim(6521045))"
   ]
  },
  {
   "cell_type": "code",
   "execution_count": null,
   "metadata": {},
   "outputs": [],
   "source": [
    "test_sim = sys_to_rebound_sim(6521045)\n",
    "test_sim.copy()\n",
    "\n",
    "print(len(test_sim.particles[1:]))"
   ]
  },
  {
   "cell_type": "code",
   "execution_count": 4,
   "metadata": {},
   "outputs": [],
   "source": [
    "def insert_test_particle(sim):\n",
    "    mass_test = 1e-10\n",
    "    ecc_test = 0\n",
    "    inc_test = 0\n",
    "    pomega_test = np.random.uniform(0, 2*np.pi)\n",
    "    Omega_test = np.random.uniform(0, 2*np.pi)\n",
    "    f_test = np.random.uniform(0, 2*np.pi)\n",
    "    \n",
    "    m_earth = 3e-6\n",
    "    year = 2 * np.pi # one year in REBOUND time (in units where G=1)\n",
    "    day = year / 365 # one day in REBOUND time (in units where G=1)\n",
    "    \n",
    "    N_planets = len(sim.particles[1:])\n",
    "    N_pair = N_planets - 1\n",
    "    \n",
    "    m_star = sim.particles[0].m\n",
    "    \n",
    "    test_particle_systems = []\n",
    "    \n",
    "    for i in range(N_pair):\n",
    "        new_sim = sim.copy()\n",
    "        \n",
    "        a_inner = new_sim.particles[i+1].a\n",
    "        a_outer = new_sim.particles[i+2].a\n",
    "        \n",
    "        mass_inner = new_sim.particles[i+1].m\n",
    "        mass_outer = new_sim.particles[i+2].m\n",
    "        \n",
    "        hill_inner = a_inner * (mass_inner / m_star / 3) ** (1/3)\n",
    "        hill_outer = a_outer * (mass_outer / m_star / 3) ** (1/3)\n",
    "        \n",
    "        spacing = (a_outer - a_inner) / (hill_inner + hill_outer)\n",
    "        a_test = a_inner + spacing * hill_inner\n",
    "        \n",
    "        new_sim.add(m=mass_test, a=a_test, e=ecc_test, inc=inc_test, pomega=pomega_test, Omega=Omega_test, f=f_test)\n",
    "        \n",
    "        new_sim.move_to_com()\n",
    "        \n",
    "        test_particle_systems.append(new_sim)\n",
    "        \n",
    "    return test_particle_systems\n",
    "        "
   ]
  },
  {
   "cell_type": "code",
   "execution_count": null,
   "metadata": {},
   "outputs": [],
   "source": [
    "for sim in insert_test_particle(sys_to_rebound_sim(6521045)):\n",
    "    rebound.OrbitPlot(sim)"
   ]
  },
  {
   "cell_type": "code",
   "execution_count": 5,
   "metadata": {},
   "outputs": [],
   "source": [
    "model = spock.StabilityClassifier()"
   ]
  },
  {
   "cell_type": "code",
   "execution_count": null,
   "metadata": {},
   "outputs": [],
   "source": [
    "for sim in insert_test_particle(sys_to_rebound_sim(6521045)):\n",
    "    print(model.predict(sim, copy=False))"
   ]
  },
  {
   "cell_type": "code",
   "execution_count": null,
   "metadata": {},
   "outputs": [],
   "source": [
    "for sysid in df['kepid'].unique():\n",
    "    if len(df[df['kepid'] == sysid]) >= 2:\n",
    "        for sim in insert_test_particle(sys_to_rebound_sim(sysid)):\n",
    "            print(model.predict(sim, copy=False))"
   ]
  },
  {
   "cell_type": "code",
   "execution_count": null,
   "metadata": {},
   "outputs": [],
   "source": [
    "def calc_sys_prob(sysid):\n",
    "    sys_probs = [sysid]\n",
    "    for sim in insert_test_particle(sys_to_rebound_sim(sysid)):\n",
    "        sys_probs.append(model.predict(sim, copy=False))\n",
    "    return sys_probs"
   ]
  },
  {
   "cell_type": "code",
   "execution_count": 6,
   "metadata": {},
   "outputs": [],
   "source": [
    "def calc_period_ratio_and_hill_spacing(sim):\n",
    "    \n",
    "    m_earth = 3e-6\n",
    "    year = 2 * np.pi # one year in REBOUND time (in units where G=1)\n",
    "    day = year / 365 # one day in REBOUND time (in units where G=1)\n",
    "    \n",
    "    N_planets = len(sim.particles[1:])\n",
    "    N_pair = N_planets - 1\n",
    "    \n",
    "    m_star = sim.particles[0].m\n",
    "    \n",
    "    period_ratio = []\n",
    "    hill_spacing = []\n",
    "    \n",
    "    for i in range(N_pair):\n",
    "        \n",
    "        P_inner = sim.particles[i+1].P\n",
    "        P_outer = sim.particles[i+2].P\n",
    "        \n",
    "        period_ratio.append(P_outer / P_inner)\n",
    "        \n",
    "        a_inner = sim.particles[i+1].a\n",
    "        a_outer = sim.particles[i+2].a\n",
    "        \n",
    "        mass_inner = sim.particles[i+1].m\n",
    "        mass_outer = sim.particles[i+2].m\n",
    "        \n",
    "        hill_radius = ((mass_inner + mass_outer) / (3 * m_star)) ** (1/3) * ((a_inner + a_outer) / 2)\n",
    "        \n",
    "        hill_spacing.append((a_outer - a_inner) / hill_radius)\n",
    "        \n",
    "    return period_ratio, hill_spacing\n",
    "        "
   ]
  },
  {
   "cell_type": "code",
   "execution_count": 7,
   "metadata": {},
   "outputs": [
    {
     "name": "stderr",
     "output_type": "stream",
     "text": [
      "/Users/alysa/work/github-repos/spock/spock/simsetup.py:21: ComplexWarning: Casting complex values to real discards the imaginary part\n",
      "  sim.dt = dtfrac*minTperi # Wisdom 2015 suggests 0.05, 0.07 fine for short integrations\n"
     ]
    }
   ],
   "source": [
    "np.random.seed(2)\n",
    "\n",
    "all_probs = []\n",
    "all_period_ratio = []\n",
    "all_hill_spacing = []\n",
    "\n",
    "# for sysid in df['kepid'].unique():\n",
    "for sysid in df[df['koi_prad'] < 20]['kepid'].unique():\n",
    "    if len(df[df['kepid'] == sysid]) >= 2:\n",
    "        sim = sys_to_rebound_sim(sysid)\n",
    "        \n",
    "        period_ratio, hill_spacing = calc_period_ratio_and_hill_spacing(sim)\n",
    "        all_period_ratio.append(period_ratio)\n",
    "        all_hill_spacing.append(hill_spacing)\n",
    "        \n",
    "        sys_probs = [sysid]\n",
    "        for test_sim in insert_test_particle(sim):\n",
    "            sys_probs.append(model.predict(test_sim))\n",
    "#             rebound.OrbitPlot(test_sim)\n",
    "        all_probs.append(sys_probs)\n"
   ]
  },
  {
   "cell_type": "code",
   "execution_count": 47,
   "metadata": {},
   "outputs": [
    {
     "data": {
      "text/plain": [
       "3904"
      ]
     },
     "execution_count": 47,
     "metadata": {},
     "output_type": "execute_result"
    }
   ],
   "source": [
    "len(df[df['koi_prad'] < 20])"
   ]
  },
  {
   "cell_type": "code",
   "execution_count": null,
   "metadata": {},
   "outputs": [],
   "source": [
    "sim = sys_to_rebound_sim(11122894)"
   ]
  },
  {
   "cell_type": "code",
   "execution_count": null,
   "metadata": {},
   "outputs": [],
   "source": [
    "df[df['koi_prad'] > 30]"
   ]
  },
  {
   "cell_type": "code",
   "execution_count": null,
   "metadata": {},
   "outputs": [],
   "source": [
    "for test_sim in insert_test_particle(sim):\n",
    "            rebound.OrbitPlot(test_sim)"
   ]
  },
  {
   "cell_type": "code",
   "execution_count": null,
   "metadata": {},
   "outputs": [],
   "source": [
    "sim.status()"
   ]
  },
  {
   "cell_type": "code",
   "execution_count": 8,
   "metadata": {},
   "outputs": [
    {
     "ename": "AttributeError",
     "evalue": "'list' object has no attribute 'flatten'",
     "output_type": "error",
     "traceback": [
      "\u001b[0;31m---------------------------------------------------------------------------\u001b[0m",
      "\u001b[0;31mAttributeError\u001b[0m                            Traceback (most recent call last)",
      "\u001b[0;32m<ipython-input-8-5f9adb683299>\u001b[0m in \u001b[0;36m<module>\u001b[0;34m()\u001b[0m\n\u001b[0;32m----> 1\u001b[0;31m \u001b[0mplt\u001b[0m\u001b[0;34m.\u001b[0m\u001b[0mhist\u001b[0m\u001b[0;34m(\u001b[0m\u001b[0mall_period_ratio\u001b[0m\u001b[0;34m.\u001b[0m\u001b[0mflatten\u001b[0m\u001b[0;34m(\u001b[0m\u001b[0;34m)\u001b[0m\u001b[0;34m)\u001b[0m\u001b[0;34m\u001b[0m\u001b[0m\n\u001b[0m",
      "\u001b[0;31mAttributeError\u001b[0m: 'list' object has no attribute 'flatten'"
     ]
    }
   ],
   "source": [
    "plt.hist(all_period_ratio.flatten())"
   ]
  },
  {
   "cell_type": "code",
   "execution_count": null,
   "metadata": {},
   "outputs": [],
   "source": [
    "len(all_probs)"
   ]
  },
  {
   "cell_type": "code",
   "execution_count": 18,
   "metadata": {},
   "outputs": [],
   "source": [
    "two_planet_probs = []\n",
    "two_planet_period_ratio = []\n",
    "two_planet_hill_spacing = []\n",
    "\n",
    "three_planet_probs = []\n",
    "three_planet_period_ratio = []\n",
    "three_planet_hill_spacing = []\n",
    "\n",
    "four_planet_probs = []\n",
    "four_planet_period_ratio = []\n",
    "four_planet_hill_spacing = []\n",
    "\n",
    "five_plus_planet_probs = []\n",
    "five_plus_planet_period_ratio = []\n",
    "five_plus_planet_hill_spacing = []\n",
    "\n",
    "\n",
    "for system in all_probs:\n",
    "    if len(system) == 2:\n",
    "        two_planet_probs.append(system)\n",
    "    elif len(system) == 3:\n",
    "        three_planet_probs.append(system)\n",
    "    elif len(system) == 4:\n",
    "        four_planet_probs.append(system)\n",
    "    else:\n",
    "        five_plus_planet_probs.append(system)\n",
    "        \n",
    "for system in all_period_ratio:\n",
    "    if len(system) == 1:\n",
    "        two_planet_period_ratio.append(system)\n",
    "    elif len(system) == 2:\n",
    "        three_planet_period_ratio.append(system)\n",
    "    elif len(system) == 3:\n",
    "        four_planet_period_ratio.append(system)\n",
    "    else:\n",
    "        five_plus_planet_period_ratio.append(system)\n",
    "        \n",
    "for system in all_hill_spacing:\n",
    "    if len(system) == 1:\n",
    "        two_planet_hill_spacing.append(system)\n",
    "    elif len(system) == 2:\n",
    "        three_planet_hill_spacing.append(system)\n",
    "    elif len(system) == 3:\n",
    "        four_planet_hill_spacing.append(system)\n",
    "    else:\n",
    "        five_plus_planet_hill_spacing.append(system)"
   ]
  },
  {
   "cell_type": "code",
   "execution_count": 19,
   "metadata": {},
   "outputs": [],
   "source": [
    "two_planet_probs = np.array(two_planet_probs)\n",
    "three_planet_probs = np.array(three_planet_probs)\n",
    "four_planet_probs = np.array(four_planet_probs)\n",
    "\n",
    "two_planet_period_ratio = np.array(two_planet_period_ratio)\n",
    "three_planet_period_ratio = np.array(three_planet_period_ratio)\n",
    "four_planet_period_ratio = np.array(four_planet_period_ratio)\n",
    "\n",
    "two_planet_hill_spacing = np.array(two_planet_hill_spacing)\n",
    "three_planet_hill_spacing = np.array(three_planet_hill_spacing)\n",
    "four_planet_hill_spacing = np.array(four_planet_hill_spacing)"
   ]
  },
  {
   "cell_type": "code",
   "execution_count": 20,
   "metadata": {},
   "outputs": [
    {
     "data": {
      "text/plain": [
       "(array([ 37.,   5.,   4.,   1.,   4.,   1.,   5.,   2.,   1.,   2.,   7.,\n",
       "          7.,   3.,   4.,   7.,   7.,  17.,  26.,  41., 248.]),\n",
       " array([0.        , 0.04871247, 0.09742494, 0.14613741, 0.19484988,\n",
       "        0.24356236, 0.29227483, 0.3409873 , 0.38969977, 0.43841224,\n",
       "        0.48712471, 0.53583718, 0.58454965, 0.63326212, 0.6819746 ,\n",
       "        0.73068707, 0.77939954, 0.82811201, 0.87682448, 0.92553695,\n",
       "        0.97424942]),\n",
       " <a list of 20 Patch objects>)"
      ]
     },
     "execution_count": 20,
     "metadata": {},
     "output_type": "execute_result"
    },
    {
     "data": {
      "image/png": "[encoded data removed]",
      "text/plain": [
       "<matplotlib.figure.Figure at 0x126744470>"
      ]
     },
     "metadata": {},
     "output_type": "display_data"
    }
   ],
   "source": [
    "plt.hist(two_planet_probs[:,1], bins=20)"
   ]
  },
  {
   "cell_type": "code",
   "execution_count": 21,
   "metadata": {},
   "outputs": [
    {
     "data": {
      "text/plain": [
       "(array([44.,  8.,  0.,  1.,  1.,  2.,  3.,  3.,  1.,  3.,  6.,  1.,  8.,\n",
       "         5.,  5.,  8., 14., 27., 60., 96.]),\n",
       " array([0.        , 0.04865576, 0.09731151, 0.14596727, 0.19462303,\n",
       "        0.24327879, 0.29193454, 0.3405903 , 0.38924606, 0.43790182,\n",
       "        0.48655757, 0.53521333, 0.58386909, 0.63252485, 0.6811806 ,\n",
       "        0.72983636, 0.77849212, 0.82714787, 0.87580363, 0.92445939,\n",
       "        0.97311515]),\n",
       " <a list of 20 Patch objects>)"
      ]
     },
     "execution_count": 21,
     "metadata": {},
     "output_type": "execute_result"
    },
    {
     "data": {
      "image/png": "[encoded data removed]",
      "text/plain": [
       "<matplotlib.figure.Figure at 0x126746630>"
      ]
     },
     "metadata": {},
     "output_type": "display_data"
    }
   ],
   "source": [
    "plt.hist(three_planet_probs[:,1:].flatten(), bins=20)"
   ]
  },
  {
   "cell_type": "code",
   "execution_count": 22,
   "metadata": {},
   "outputs": [
    {
     "data": {
      "text/plain": [
       "(array([20.,  4.,  3.,  1.,  0.,  3.,  3.,  2.,  0.,  3.,  3.,  4.,  0.,\n",
       "         3.,  8.,  5.,  8., 11., 14., 52.]),\n",
       " array([0.        , 0.0477749 , 0.0955498 , 0.1433247 , 0.1910996 ,\n",
       "        0.2388745 , 0.28664939, 0.33442429, 0.38219919, 0.42997409,\n",
       "        0.47774899, 0.52552389, 0.57329879, 0.62107369, 0.66884859,\n",
       "        0.71662349, 0.76439838, 0.81217328, 0.85994818, 0.90772308,\n",
       "        0.95549798]),\n",
       " <a list of 20 Patch objects>)"
      ]
     },
     "execution_count": 22,
     "metadata": {},
     "output_type": "execute_result"
    },
    {
     "data": {
      "image/png": "[encoded data removed]",
      "text/plain": [
       "<matplotlib.figure.Figure at 0x12682b518>"
      ]
     },
     "metadata": {},
     "output_type": "display_data"
    }
   ],
   "source": [
    "plt.hist(four_planet_probs[:,1:].flatten(), bins=20)"
   ]
  },
  {
   "cell_type": "code",
   "execution_count": 27,
   "metadata": {},
   "outputs": [
    {
     "data": {
      "text/plain": [
       "(array([ 3., 36., 54., 58., 41., 29., 28., 32., 16.,  5., 11., 10.,  9.,\n",
       "         4.,  8.,  9.,  3.,  1.,  3.,  3.]),\n",
       " array([1.  , 1.25, 1.5 , 1.75, 2.  , 2.25, 2.5 , 2.75, 3.  , 3.25, 3.5 ,\n",
       "        3.75, 4.  , 4.25, 4.5 , 4.75, 5.  , 5.25, 5.5 , 5.75, 6.  ]),\n",
       " <a list of 20 Patch objects>)"
      ]
     },
     "execution_count": 27,
     "metadata": {},
     "output_type": "execute_result"
    },
    {
     "data": {
      "image/png": "[encoded data removed]",
      "text/plain": [
       "<matplotlib.figure.Figure at 0x126a6e5f8>"
      ]
     },
     "metadata": {},
     "output_type": "display_data"
    }
   ],
   "source": [
    "plt.hist(two_planet_period_ratio, bins=20, range=(1,6))"
   ]
  },
  {
   "cell_type": "code",
   "execution_count": 29,
   "metadata": {},
   "outputs": [
    {
     "data": {
      "text/plain": [
       "(array([ 3., 28., 60., 35., 45., 18., 24., 18.,  8.,  6.,  3.,  1.,  5.,\n",
       "         4.,  6.,  4.,  1.,  1.,  1.,  0.]),\n",
       " array([1.  , 1.25, 1.5 , 1.75, 2.  , 2.25, 2.5 , 2.75, 3.  , 3.25, 3.5 ,\n",
       "        3.75, 4.  , 4.25, 4.5 , 4.75, 5.  , 5.25, 5.5 , 5.75, 6.  ]),\n",
       " <a list of 20 Patch objects>)"
      ]
     },
     "execution_count": 29,
     "metadata": {},
     "output_type": "execute_result"
    },
    {
     "data": {
      "image/png": "[encoded data removed]",
      "text/plain": [
       "<matplotlib.figure.Figure at 0x126bd9240>"
      ]
     },
     "metadata": {},
     "output_type": "display_data"
    }
   ],
   "source": [
    "plt.hist(three_planet_period_ratio.flatten(), bins=20, range=(1,6))"
   ]
  },
  {
   "cell_type": "code",
   "execution_count": 30,
   "metadata": {},
   "outputs": [
    {
     "data": {
      "text/plain": [
       "(array([ 2., 17., 39., 25., 23., 15.,  8.,  3.,  2.,  6.,  0.,  0.,  0.,\n",
       "         2.,  0.,  1.,  1.,  0.,  0.,  0.]),\n",
       " array([1.  , 1.25, 1.5 , 1.75, 2.  , 2.25, 2.5 , 2.75, 3.  , 3.25, 3.5 ,\n",
       "        3.75, 4.  , 4.25, 4.5 , 4.75, 5.  , 5.25, 5.5 , 5.75, 6.  ]),\n",
       " <a list of 20 Patch objects>)"
      ]
     },
     "execution_count": 30,
     "metadata": {},
     "output_type": "execute_result"
    },
    {
     "data": {
      "image/png": "[encoded data removed]",
      "text/plain": [
       "<matplotlib.figure.Figure at 0x126d45ba8>"
      ]
     },
     "metadata": {},
     "output_type": "display_data"
    }
   ],
   "source": [
    "plt.hist(four_planet_period_ratio.flatten(), bins=20, range=(1,6))"
   ]
  },
  {
   "cell_type": "code",
   "execution_count": 40,
   "metadata": {},
   "outputs": [
    {
     "data": {
      "image/png": "[encoded data removed]",
      "text/plain": [
       "<matplotlib.figure.Figure at 0x12731cf98>"
      ]
     },
     "metadata": {},
     "output_type": "display_data"
    }
   ],
   "source": [
    "h1 = plt.hist(two_planet_hill_spacing, bins=25, cumulative=True, density=True);\n",
    "h2 = plt.hist(three_planet_hill_spacing.flatten(), bins=25, cumulative=True, density=True);\n",
    "h3 = plt.hist(four_planet_hill_spacing.flatten(), bins=25, cumulative=True, density=True);"
   ]
  },
  {
   "cell_type": "code",
   "execution_count": 43,
   "metadata": {},
   "outputs": [
    {
     "data": {
      "text/plain": [
       "(0, 80)"
      ]
     },
     "execution_count": 43,
     "metadata": {},
     "output_type": "execute_result"
    },
    {
     "data": {
      "image/png": "[encoded data removed]",
      "text/plain": [
       "<matplotlib.figure.Figure at 0x1278086a0>"
      ]
     },
     "metadata": {},
     "output_type": "display_data"
    }
   ],
   "source": [
    "plt.plot(h1[1][1:], h1[0], '-', label='2 planet')\n",
    "plt.plot(h2[1][1:], h2[0], '-', label='3 planet')\n",
    "plt.plot(h3[1][1:], h3[0], '-', label='4 planet')\n",
    "plt.legend()\n",
    "plt.xlim([0, 80])"
   ]
  },
  {
   "cell_type": "code",
   "execution_count": null,
   "metadata": {},
   "outputs": [],
   "source": []
  }
 ],
 "metadata": {
  "kernelspec": {
   "display_name": "Python 3",
   "language": "python",
   "name": "python3"
  },
  "language_info": {
   "codemirror_mode": {
    "name": "ipython",
    "version": 3
   },
   "file_extension": ".py",
   "mimetype": "text/x-python",
   "name": "python",
   "nbconvert_exporter": "python",
   "pygments_lexer": "ipython3",
   "version": "3.5.4"
  }
 },
 "nbformat": 4,
 "nbformat_minor": 1
}
