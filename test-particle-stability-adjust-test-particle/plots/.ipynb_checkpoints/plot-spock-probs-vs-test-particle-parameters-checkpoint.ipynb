{
 "cells": [
  {
   "cell_type": "code",
   "execution_count": 1,
   "metadata": {},
   "outputs": [],
   "source": [
    "__author__ = 'Alysa Obertas'\n",
    "__email__ = 'obertas@astro.utoronto.ca'\n",
    "\n",
    "import numpy as np\n",
    "import rebound\n",
    "import matplotlib.pyplot as plt\n",
    "import matplotlib\n",
    "import random"
   ]
  },
  {
   "cell_type": "code",
   "execution_count": 4,
   "metadata": {},
   "outputs": [],
   "source": [
    "#######################################################################\n",
    "## read initial condition file\n",
    "\n",
    "infile = \"../generate-and-run-systems/initial_conditions_second_run_feb_6.npz\"\n",
    "\n",
    "ic = np.load(infile)\n",
    "\n",
    "P_min = ic['P_min'] # minimum period of test particle (REBOUND time)\n",
    "P_max = ic['P_max'] # maximum period of test particle (REBOUND time)\n",
    "P_rand = ic['P_rand'] # periods for Nsims test particles (REBOUND time)\n",
    "\n",
    "e_min = ic['e_min'] # minimum eccentricity of test particle\n",
    "e_max = ic['e_max'] # maximum eccentricity of test particle\n",
    "e_rand = ic['e_rand'] # eccentricities for Nsims test particles\n",
    "\n",
    "inc_min = ic['inc_min'] # minimum inclination of test particle (radians)\n",
    "inc_max = ic['inc_max'] # maximum inclination of test particle (radians)\n",
    "inc_rand = ic['inc_rand'] # inclinations for Nsims test particles (radians)\n",
    "\n",
    "pomega_min = ic['pomega_min'] # minimum longitude of periapsis of test particle (radians)\n",
    "pomega_max = ic['pomega_max'] # maximum longitude of periapsis of test particle (radians)\n",
    "pomega_rand = ic['pomega_rand'] # longitudes of periapsis for Nsims test particles (radians)"
   ]
  },
  {
   "cell_type": "code",
   "execution_count": 3,
   "metadata": {},
   "outputs": [],
   "source": [
    "#######################################################################\n",
    "## read spock probabilities file\n",
    "\n",
    "outfile = \"../spock-stability/probs-all-second-run-feb-6.npz\"\n",
    "\n",
    "spock_probs = np.load(outfile)\n",
    "\n",
    "probs = spock_probs['probs']"
   ]
  },
  {
   "cell_type": "code",
   "execution_count": 5,
   "metadata": {},
   "outputs": [],
   "source": [
    "#######################################################################\n",
    "## generate test particle parameter grids\n",
    "\n",
    "N_P = 101\n",
    "P_lin = np.linspace(P_min, P_max, N_P)\n",
    "P_centre = (P_lin[1:] - P_lin[0:-1])/2\n",
    "\n",
    "N_e = 101\n",
    "e_lin = np.linspace(e_min, e_max, N_e)\n",
    "e_centre = (e_lin[1:] - e_lin[0:-1])/2\n",
    "\n",
    "N_inc = 101\n",
    "inc_lin = np.linspace(inc_min, inc_max, N_inc)\n",
    "inc_centre = (inc_lin[1:] - inc_lin[0:-1])/2\n",
    "\n",
    "N_pomega = 101\n",
    "pomega_lin = np.linspace(pomega_min, pomega_max, N_pomega)\n",
    "pomega_centre = (pomega_lin[1:] - pomega_lin[0:-1])/2\n",
    "\n",
    "Pe, eP = np.meshgrid(P_centre, e_centre, indexing='ij')\n"
   ]
  },
  {
   "cell_type": "code",
   "execution_count": null,
   "metadata": {},
   "outputs": [],
   "source": [
    "\n",
    "\n",
    "median_prob_P_e = np.zeros((N_P, N_e))\n",
    "mean_prob_P_e = np.zeros((N_P, N_e))\n",
    "std_prob_P_e = np.zeros((N_P, N_e))\n",
    "\n",
    "for i, P in enumerate(P_lin[0:-1]):\n",
    "    for j, e in enumerate(e_lin[0:-1]):\n",
    "        probs_P_e[i,j] = np.mean()\n",
    "        \n",
    "fig, ax = plt.subplots(figsize=(16,8))\n",
    "\n",
    "z_min, z_max = -abs(Z).max(), abs(Z).max()\n",
    "\n",
    "im = ax.pcolormesh(X, Y, Z, cmap='winter')\n",
    "fig.colorbar(im)\n",
    "ax.set_xlabel('e1')\n",
    "ax.set_ylabel('e3')\n",
    "\n",
    "fig, ax = plt.subplots()\n",
    "im = ax.pcolormesh(X, Y, Z, cmap='winter')\n",
    "fig.colorbar(im)\n",
    "ax.set_xlabel('e1')\n",
    "ax.set_ylabel('e3')\n",
    "\n",
    "ax[0][0].plot(P_sort[np.logical_and(inc_sort >= 3 * np.pi/180, inc_sort < 5 * np.pi/180)], probs[np.logical_and(inc_sort >= 3 * np.pi/180, inc_sort < 5 * np.pi/180)], '.')\n",
    "ax[0][0].set_xlim(0.95*np.min(P_sort), 1.05*np.max(P_sort))\n",
    "\n",
    "ax[0][1].plot(e_sort, probs, '.')\n",
    "ax[0][1].set_xlim(0.95*np.min(e_sort), 1.05*np.max(e_sort))\n",
    "\n",
    "ax[1][0].plot(inc_sort, probs, '.')\n",
    "ax[1][0].set_xlim(0.95*np.min(inc_sort), 1.05*np.max(inc_sort))\n",
    "\n",
    "ax[1][1].plot(pomega_sort, probs, '.')\n",
    "ax[1][1].set_xlim(0.95*np.min(pomega_sort), 1.05*np.max(pomega_sort))"
   ]
  },
  {
   "cell_type": "code",
   "execution_count": null,
   "metadata": {},
   "outputs": [],
   "source": []
  }
 ],
 "metadata": {
  "kernelspec": {
   "display_name": "Python 3",
   "language": "python",
   "name": "python3"
  },
  "language_info": {
   "codemirror_mode": {
    "name": "ipython",
    "version": 3
   },
   "file_extension": ".py",
   "mimetype": "text/x-python",
   "name": "python",
   "nbconvert_exporter": "python",
   "pygments_lexer": "ipython3",
   "version": "3.5.4"
  }
 },
 "nbformat": 4,
 "nbformat_minor": 2
}
